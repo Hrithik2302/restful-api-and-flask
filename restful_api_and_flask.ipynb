{
  "nbformat": 4,
  "nbformat_minor": 0,
  "metadata": {
    "colab": {
      "provenance": []
    },
    "kernelspec": {
      "name": "python3",
      "display_name": "Python 3"
    },
    "language_info": {
      "name": "python"
    }
  },
  "cells": [
    {
      "cell_type": "markdown",
      "source": [
        "#restful api and flask"
      ],
      "metadata": {
        "id": "u8TfFXmuA_m0"
      }
    },
    {
      "cell_type": "markdown",
      "source": [
        "\n",
        "1. What is a RESTful API?\n",
        "\n",
        "A RESTful API (Representational State Transfer) is an architectural style for designing networked applications. It uses standard HTTP methods (GET, POST, PUT, DELETE) to access and manipulate resources, typically represented in JSON or XML.\n",
        "\n",
        "2. Explain the concept of API specification.\n",
        "\n",
        "An API specification defines how an API behaves: the available endpoints, request/response formats, parameters, authentication methods, and error messages. Examples: OpenAPI (Swagger), RAML.\n",
        "\n",
        "3. What is Flask, and why is it popular for building APIs?\n",
        "\n",
        "Flask is a lightweight Python web framework. It is popular for APIs due to:\n",
        "\n",
        "Simplicity\n",
        "\n",
        "Flexibility\n",
        "\n",
        "Minimal boilerplate\n",
        "\n",
        "Easy integration with tools like Flask-RESTful and SQLAlchemy\n",
        "\n",
        "4. What is routing in Flask?\n",
        "\n",
        "Routing maps URLs to specific Python functions. Each route is associated with a view function using the @app.route() decorator.\n",
        "\n",
        "5. How do you create a simple Flask application?\n",
        "\n",
        "from flask import Flask\n",
        "app = Flask(__name__)\n",
        "\n",
        "@app.route('/')\n",
        "def home():\n",
        "    return \"Hello, World!\"\n",
        "\n",
        "if __name__ == '__main__':\n",
        "    app.run(debug=True)\n",
        "\n",
        "6. What are HTTP methods used in RESTful APIs?\n",
        "\n",
        "GET: Retrieve data\n",
        "\n",
        "POST: Create data\n",
        "\n",
        "PUT: Update data\n",
        "\n",
        "DELETE: Delete data\n",
        "\n",
        "PATCH: Partial update\n",
        "\n",
        "7. What is the purpose of the @app.route() decorator in Flask?\n",
        "\n",
        "It binds a URL path to a function, defining what happens when that route is accessed.\n",
        "\n",
        "8. What is the difference between GET and POST HTTP methods?\n",
        "\n",
        "GET: Requests data from a server (no body).\n",
        "\n",
        "POST: Sends data to the server to create or process something (uses request body).\n",
        "\n",
        "9. How do you handle errors in Flask APIs?\n",
        "\n",
        "Use Flask’s error handlers:\n",
        "\n",
        "@app.errorhandler(404)\n",
        "def not_found(error):\n",
        "    return {\"error\": \"Not Found\"}, 404\n",
        "\n",
        "10. How do you connect Flask to a SQL database?\n",
        "\n",
        "Use SQLAlchemy:\n",
        "\n",
        "from flask_sqlalchemy import SQLAlchemy\n",
        "\n",
        "app.config['SQLALCHEMY_DATABASE_URI'] = 'sqlite:///example.db'\n",
        "db = SQLAlchemy(app)\n",
        "\n",
        "11. What is the role of Flask-SQLAlchemy?\n",
        "\n",
        "It integrates SQLAlchemy ORM with Flask, simplifying database operations using Python classes.\n",
        "\n",
        "12. What are Flask blueprints, and how are they useful?\n",
        "\n",
        "Blueprints allow structuring an app into reusable modules (e.g., auth, blog). Helpful for larger apps and separation of concerns.\n",
        "\n",
        "13. What is the purpose of Flask's request object?\n",
        "\n",
        "request gives access to HTTP request data: form inputs, JSON, headers, query parameters, etc.\n",
        "\n",
        "14. How do you create a RESTful API endpoint using Flask?\n",
        "\n",
        "@app.route('/api/data', methods=['GET'])\n",
        "def get_data():\n",
        "    return {\"data\": \"example\"}\n",
        "\n",
        "15. What is the purpose of Flask's jsonify() function?\n",
        "\n",
        "It converts Python dictionaries to JSON response objects with proper headers.\n",
        "\n",
        "16. Explain Flask’s url_for() function.\n",
        "\n",
        "Generates URLs for routes by name, useful for dynamic links:\n",
        "\n",
        "url_for('home')  # returns '/'\n",
        "\n",
        "17. How does Flask handle static files (CSS, JavaScript, etc.)?\n",
        "\n",
        "By default, Flask serves them from the static/ folder and uses /static/filename in URLs.\n",
        "\n",
        "18. What is an API specification, and how does it help in building a Flask API?\n",
        "\n",
        "It defines endpoints, methods, data formats, and behaviors. Helps teams align, auto-generate documentation, and test easily.\n",
        "\n",
        "19. What are HTTP status codes, and why are they important in a Flask API?\n",
        "\n",
        "Status codes indicate the result of a request:\n",
        "\n",
        "200 OK: Success\n",
        "\n",
        "201 Created: Resource created\n",
        "\n",
        "400 Bad Request: Client error\n",
        "\n",
        "404 Not Found: Missing resource\n",
        "\n",
        "500 Internal Server Error: Server error\n",
        "They improve communication between client and server.\n",
        "\n",
        "20. How do you handle POST requests in Flask?\n",
        "\n",
        "from flask import request\n",
        "\n",
        "@app.route('/submit', methods=['POST'])\n",
        "def submit():\n",
        "    data = request.json\n",
        "    return {\"received\": data}, 201\n",
        "\n",
        "21. How would you secure a Flask API?\n",
        "Use HTTPS\n",
        "\n",
        "Validate and sanitize inputs\n",
        "\n",
        "Implement authentication (e.g., JWT, OAuth2)\n",
        "\n",
        "Use rate limiting (Flask-Limiter)\n",
        "\n",
        "Avoid exposing debug mode in production\n",
        "\n",
        "22. What is the significance of the Flask-RESTful extension?\n",
        "\n",
        "It simplifies building REST APIs with Flask by adding:\n",
        "\n",
        "Resource-based routing\n",
        "\n",
        "Automatic request parsing\n",
        "\n",
        "Standard response formatting\n",
        "\n",
        "23. What is the role of Flask’s session object?\n",
        "\n",
        "session stores data across requests (e.g., user authentication) using secure cookies."
      ],
      "metadata": {
        "id": "YTWsOcCDBGtv"
      }
    },
    {
      "cell_type": "markdown",
      "source": [
        "#practical"
      ],
      "metadata": {
        "id": "rOWgf_eBDwpv"
      }
    },
    {
      "cell_type": "markdown",
      "source": [
        "1. How do you create a basic Flask application4\n",
        "2. How do you serve static files like images or CSS in Flask4\n",
        "3. How do you define different routes with different HTTP methods in Flask4\n",
        "4. How do you render HTML templates in Flask4\n",
        "5. How can you generate URLs for routes in Flask using url_for4\n",
        "6. How do you handle forms in Flask4\n",
        "7. How can you validate form data in Flask4\n",
        "8. How do you manage sessions in Flask4\n",
        "9. How do you redirect to a different route in Flask4\n",
        "10. How do you handle errors in Flask (e.g., 404)4\n",
        "11. How do you structure a Flask app using Blueprints4\n",
        "12. How do you define a custom Jinja filter in Flask4\n",
        "13. How can you redirect with query parameters in Flask4\n",
        "14. How do you return JSON responses in Flask4\n",
        "15. How do you capture URL parameters in Flask?"
      ],
      "metadata": {
        "id": "FajXUPJ7D1hr"
      }
    },
    {
      "cell_type": "code",
      "execution_count": null,
      "metadata": {
        "colab": {
          "base_uri": "https://localhost:8080/"
        },
        "collapsed": true,
        "id": "S3imXFpiA05Q",
        "outputId": "a64361ea-c5a2-449c-d3e4-4eea71f33ccf"
      },
      "outputs": [
        {
          "output_type": "stream",
          "name": "stdout",
          "text": [
            " * Serving Flask app '__main__'\n",
            " * Debug mode: on\n"
          ]
        },
        {
          "output_type": "stream",
          "name": "stderr",
          "text": [
            "INFO:werkzeug:\u001b[31m\u001b[1mWARNING: This is a development server. Do not use it in a production deployment. Use a production WSGI server instead.\u001b[0m\n",
            " * Running on http://127.0.0.1:5000\n",
            "INFO:werkzeug:\u001b[33mPress CTRL+C to quit\u001b[0m\n",
            "INFO:werkzeug: * Restarting with stat\n"
          ]
        }
      ],
      "source": [
        "#1\n",
        "from flask import Flask\n",
        "\n",
        "app = Flask(__name__)\n",
        "\n",
        "@app.route('/')\n",
        "def home():\n",
        "    return \"Hello, Flask!\"\n",
        "\n",
        "if __name__ == '__main__':\n",
        "    app.run(debug=True)\n"
      ]
    },
    {
      "cell_type": "code",
      "source": [
        "2.\n",
        "<link rel=\"stylesheet\" href=\"{{ url_for('static', filename='style.css') }}\">\n",
        "<img src=\"{{ url_for('static', filename='image.png') }}\">\n"
      ],
      "metadata": {
        "id": "xfdum-JyE9Qo"
      },
      "execution_count": null,
      "outputs": []
    },
    {
      "cell_type": "code",
      "source": [
        "3.\n",
        "@app.route('/submit', methods=['GET', 'POST'])\n",
        "def submit():\n",
        "    if request.method == 'POST':\n",
        "        return \"Form submitted\"\n",
        "    return \"Submit form\"\n"
      ],
      "metadata": {
        "id": "xle6nlEiFXNc"
      },
      "execution_count": null,
      "outputs": []
    },
    {
      "cell_type": "code",
      "source": [
        "4.\n",
        "from flask import render_template\n",
        "\n",
        "@app.route('/')\n",
        "def index():\n",
        "    return render_template('index.html')\n"
      ],
      "metadata": {
        "id": "PffI_5GnFeWj"
      },
      "execution_count": null,
      "outputs": []
    },
    {
      "cell_type": "code",
      "source": [
        "5.\n",
        "@app.route('/about')\n",
        "def about():\n",
        "    return \"About Page\"\n",
        "\n",
        "url_for('about')  # returns '/about'\n"
      ],
      "metadata": {
        "id": "ZsqbYu05FjJB"
      },
      "execution_count": null,
      "outputs": []
    },
    {
      "cell_type": "code",
      "source": [
        "6.\n",
        "from flask import request\n",
        "\n",
        "@app.route('/form', methods=['POST'])\n",
        "def form_submit():\n",
        "    name = request.form['name']\n",
        "    return f\"Hello, {name}!\"\n"
      ],
      "metadata": {
        "id": "9XdoeBStFnoK"
      },
      "execution_count": null,
      "outputs": []
    },
    {
      "cell_type": "code",
      "source": [
        "7.\n",
        "<form action=\"/form\" method=\"post\">\n",
        "  <input name=\"name\">\n",
        "  <input type=\"submit\">\n",
        "</form>\n"
      ],
      "metadata": {
        "id": "Eevm1qc2Fr0n"
      },
      "execution_count": null,
      "outputs": []
    },
    {
      "cell_type": "code",
      "source": [
        "8.\n",
        "from flask import session\n",
        "\n",
        "app.secret_key = 'your_secret_key'\n",
        "\n",
        "@app.route('/login')\n",
        "def login():\n",
        "    session['user'] = 'admin'\n",
        "    return \"Logged in\"\n",
        "\n",
        "@app.route('/logout')\n",
        "def logout():\n",
        "    session.pop('user', None)\n",
        "    return \"Logged out\"\n"
      ],
      "metadata": {
        "id": "blfmSFcBFwDd"
      },
      "execution_count": null,
      "outputs": []
    },
    {
      "cell_type": "code",
      "source": [
        "9.\n",
        "from flask import redirect, url_for\n",
        "\n",
        "@app.route('/go-home')\n",
        "def go_home():\n",
        "    return redirect(url_for('home'))\n"
      ],
      "metadata": {
        "id": "k6l0lmqvF0B9"
      },
      "execution_count": null,
      "outputs": []
    },
    {
      "cell_type": "code",
      "source": [
        "10.\n",
        "@app.errorhandler(404)\n",
        "def page_not_found(error):\n",
        "    return render_template('404.html'), 404\n"
      ],
      "metadata": {
        "id": "eVqt3gq6F5Ex"
      },
      "execution_count": null,
      "outputs": []
    },
    {
      "cell_type": "code",
      "source": [
        "11.\n",
        "from flask import Blueprint\n",
        "\n",
        "auth = Blueprint('auth', __name__)\n",
        "\n",
        "@auth.route('/login')\n",
        "def login():\n",
        "    return \"Login Page\"\n"
      ],
      "metadata": {
        "id": "ys8SVuRsGC7i"
      },
      "execution_count": null,
      "outputs": []
    },
    {
      "cell_type": "code",
      "source": [
        "12.\n",
        "@app.template_filter('capitalize')\n",
        "def capitalize_filter(s):\n",
        "    return s.capitalize()\n",
        "\n",
        "# In template: {{ 'hello' | capitalize }}\n"
      ],
      "metadata": {
        "id": "VARvUuWxF432"
      },
      "execution_count": null,
      "outputs": []
    },
    {
      "cell_type": "code",
      "source": [
        "13.\n",
        "return redirect(url_for('search', q='flask'))\n",
        "\n",
        "@app.route('/search')\n",
        "def search():\n",
        "    query = request.args.get('q')\n",
        "    return f\"Search results for {query}\"\n"
      ],
      "metadata": {
        "id": "Ka5_IYkUGLS_"
      },
      "execution_count": null,
      "outputs": []
    },
    {
      "cell_type": "code",
      "source": [
        "14.\n",
        "from flask import jsonify\n",
        "\n",
        "@app.route('/api/data')\n",
        "def get_data():\n",
        "    return jsonify({'name': 'Flask', 'type': 'framework'})\n"
      ],
      "metadata": {
        "id": "L4a49U0KGPDc"
      },
      "execution_count": null,
      "outputs": []
    },
    {
      "cell_type": "code",
      "source": [
        "15.\n",
        "@app.route('/user/<username>')\n",
        "def show_user(username):\n",
        "    return f\"Hello, {username}!\"\n"
      ],
      "metadata": {
        "id": "cb_C07xaGO3t"
      },
      "execution_count": null,
      "outputs": []
    }
  ]
}